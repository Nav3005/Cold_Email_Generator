{
 "cells": [
  {
   "cell_type": "code",
   "execution_count": 2,
   "id": "f3b545f8-8b58-4124-a59d-7ff62e09fecb",
   "metadata": {},
   "outputs": [
    {
     "name": "stdout",
     "output_type": "stream",
     "text": [
      "I'm just a computer program, so I don't have feelings, but thanks for asking. How can I assist you today?\n"
     ]
    }
   ],
   "source": [
    "# sample\n",
    "from langchain_groq import ChatGroq\n",
    "\n",
    "llm = ChatGroq(\n",
    "    temperature = 0,\n",
    "    groq_api_key = \"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\",\n",
    "    model_name = \"llama-3.1-70b-versatile\"\n",
    ")\n",
    "response = llm.invoke(\"Hi how are you\")\n",
    "print(response.content)"
   ]
  },
  {
   "cell_type": "code",
   "execution_count": null,
   "id": "b3d8f6d7-9bbd-4eb1-b47c-adee0b522d7b",
   "metadata": {},
   "outputs": [],
   "source": []
  }
 ],
 "metadata": {
  "kernelspec": {
   "display_name": "Python 3 (ipykernel)",
   "language": "python",
   "name": "python3"
  },
  "language_info": {
   "codemirror_mode": {
    "name": "ipython",
    "version": 3
   },
   "file_extension": ".py",
   "mimetype": "text/x-python",
   "name": "python",
   "nbconvert_exporter": "python",
   "pygments_lexer": "ipython3",
   "version": "3.12.4"
  }
 },
 "nbformat": 4,
 "nbformat_minor": 5
}
