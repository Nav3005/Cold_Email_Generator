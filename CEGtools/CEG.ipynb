{
 "cells": [
  {
   "cell_type": "code",
   "execution_count": 1,
   "id": "007fff4f-c12f-427d-bc25-cf2aaa434139",
   "metadata": {},
   "outputs": [
    {
     "name": "stdout",
     "output_type": "stream",
     "text": [
      "I'm just a computer program, so I don't have feelings, but thanks for asking. How can I assist you today?\n"
     ]
    }
   ],
   "source": [
    "# sample\n",
    "from langchain_groq import ChatGroq\n",
    "\n",
    "llm = ChatGroq(\n",
    "    temperature = 0,\n",
    "    groq_api_key = \"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\",\n",
    "    model_name = \"llama-3.1-70b-versatile\"\n",
    ")\n",
    "response = llm.invoke(\"Hi how are you\")\n",
    "print(response.content)\n"
   ]
  },
  {
   "cell_type": "code",
   "execution_count": 2,
   "id": "22d4eed4-e175-4ecd-aea7-59d0bb326ad5",
   "metadata": {},
   "outputs": [
    {
     "name": "stderr",
     "output_type": "stream",
     "text": [
      "USER_AGENT environment variable not set, consider setting it to identify your requests.\n"
     ]
    },
    {
     "name": "stdout",
     "output_type": "stream",
     "text": [
      "Senior Staff Software Engineer, Onboarding, Product Led Growth — Google CareersCareersSkip to main contentTeamsLocationsBenefitsJobsStudentsYour careerarrow_drop_downYour career menu ApplicationsProfileSaved jobsJob alertsSign inCareersApplicationsProfileSearch jobsSaved jobsJob alertsTeamsLocationsBenefitsJobsStudentsHelpSend Feedbackjob detailsarrow_backBack to jobs searchJobs search results2,714  jobs matchedSenior Security Engineer, Google Kubernetes EngineSeattle, WA, USA; Sunnyvale, CA, USAHealth and Home Strategy LeadMountain View, OR, USA; San Francisco, CA, USASoftware Engineering Manager II, Site Reliability Engineering, ShoppingDublin, IrelandSenior Staff Software Engineer, Onboarding, Product Led GrowthSeattle, WA, USA; San Francisco, CA, USA; +2 more; +1 moreProduct Manager, Meet Hardware, Google CloudNew York, NY, USA; Raleigh, NC, USA; +2 more; +1 moreStaff Network Engineer, Google Distributed CloudSunnyvale, CA, USAAI Sales SpecialistBerlin, Germany; Frankfurt, Germany; +3 more; +2 moreProgram Manager, Google Cloud Platform Support ExperienceBengaluru, Karnataka, India; Pune, Maharashtra, IndiaSales Lead, Mid-Market Sales, Google Customer Solutions (English, Mandarin)Shenzhen, Guangdong Province, China; Shanghai, ChinaIndustry Architect, Health and Human Services, Public SectorReston, VA, USA; United States | Remote eligibleTechnical Program Manager Construction Technology Execution LeadSunnyvale, CA, USA; Boulder, CO, USA; +3 more; +2 moreTechnical Account Manager, Google CloudShenzhen, Guangdong Province, ChinaRegional Delivery Head, Data Analytics, Google Cloud ConsultingSingapore; Tokyo, JapanData Center Facilities Technician, MechanicalFredericia, DenmarkPower and Performance Lead, Silicon AI/MLBengaluru, Karnataka, IndiaManager, State and Local, Government Affairs and Public PolicyBoulder, CO, USADigital Marketing StrategistGurugram, Haryana, India; Hyderabad, Telangana, IndiaStaff Product Design Engineer, Pixel WatchSan Diego, CA, USASpecialist, Search and Performance Max, Large Customer SalesGurgaon, Haryana, India; Mumbai, Maharashtra, IndiaCamera Software Engineer, Project StarlineMountain View, CA, USA; Seattle, WA, USA1‑20 of 2714navigate_nextFollow Life at Google on More about usAbout usopen_in_newContact usopen_in_newPressopen_in_newRelated InformationInvestor relationsopen_in_newBlogopen_in_newEqual OpportunityGoogle is proud to be an equal opportunity and affirmative action employer. We are committed to building a workforce that is representative of the users we serve, creating a culture of belonging, and providing an equal employment opportunity regardless of race, creed, color, religion, gender, sexual orientation, gender identity/expression, national origin, disability, age, genetic information, veteran status, marital status, pregnancy or related condition (including breastfeeding), expecting or parents-to-be, criminal histories consistent with legal requirements, or any other basis protected by law. See also  Google's EEO Policy, Know your rights: workplace discrimination is illegal, Belonging at Google, and How we hire.More about usexpand_moreRelated informationexpand_moreEqual opportunityexpand_morePrivacyopen_in_newApplicant & Candidate Privacyopen_in_newTermsopen_in_newhelpHelpopen_in_newarrow_backBack to jobs searchSenior Staff Software Engineer, Onboarding, Product Led Growthshare linkCopy linkemailEmail a friendcorporate_fareGoogleplaceSeattle, WA, USA; San Francisco, CA, USA; +2 more; +1 morebar_chartAdvancedAdvancedExperience owning outcomes and decision making, solving ambiguous problems and influencing stakeholders; deep expertise in domain.Applyshare linkCopy linkemailEmail a friendinfo_outlineXNote: By applying to this position you will have an opportunity to share your preferred working location from the following: Seattle, WA, USA; San Francisco, CA, USA; Sunnyvale, CA, USA.Minimum qualifications:\n",
      "Bachelor's degree or equivalent practical experience.\n",
      "8 years of experience in software development, with data structures/algorithms.\n",
      "7 years of experience building and developing infrastructure, distributed systems, networks, or with compute technologies, storage, or hardware architecture.\n",
      "5 years of experience with design and architecture, and testing/launching software products.\n",
      "Experience with TypeScript, Java, or platform extensions.\n",
      "Preferred qualifications:\n",
      "Experience with Google Cloud or similar cloud platforms.\n",
      "Experience building platforms and large-scale distributed systems.\n",
      "About the jobGoogle Cloud's software engineers develop the next-generation technologies that change how billions of users connect, explore, and interact with information and one another. We're looking for engineers who bring fresh ideas from all areas, including information retrieval, distributed computing, large-scale system design, networking and data storage, security, artificial intelligence, natural language processing, UI design and mobile; the list goes on and is growing every day. As a software engineer, you will work on a specific project critical to Google Cloud's needs with opportunities to switch teams and projects as you and our fast-paced business grow and evolve. You will anticipate our customer needs and be empowered to act like an owner, take action and innovate. We need our engineers to be versatile, display leadership qualities and be enthusiastic to take on new problems across the full-stack as we continue to push technology forward.\n",
      "The Cloud Onboarding and Product Led Growth team is focused on accelerating product-led adoption and expanded usage of Google Cloud.  Our organization is part of the Application Ecosystem (AppEco).  AppEco's purpose is to engage the developer community, enable customers to onboard quickly with a consistent experience, connect foundational services across Google Cloud Platform (GCP) and accelerate our customers digital transformation journeys.In this role, you will enable prospects and customers of all segments and sizes to quickly and easily onboard GCP, provide a seamless transition from acquisition to conversion and finally to expansion.Google Cloud accelerates every organization’s ability to digitally transform its business and industry. We deliver enterprise-grade solutions that leverage Google’s cutting-edge technology, and tools that help developers build more sustainably. Customers in more than 200 countries and territories turn to Google Cloud as their trusted partner to enable growth and solve their most critical business problems.The US base salary range for this full-time position is $237,000-$337,000 + bonus + equity + benefits. Our salary ranges are determined by role, level, and location. The range displayed on each job posting reflects the minimum and maximum target salaries for the position across all US locations. Within the range, individual pay is determined by work location and additional factors, including job-related skills, experience, and relevant education or training. Your recruiter can share more about the specific salary range for your preferred location during the hiring process. Please note that the compensation details listed in US role postings reflect the base salary only, and do not include bonus, equity, or benefits. Learn more about benefits at Google.Responsibilities\n",
      "Provide technical leadership across the Google Cloud onboarding and product led growth organization.\n",
      "Drive expanded product usage and adoption through technological solutions driven by AI/ML.\n",
      "Develop technology strategy and phased plans for a platform enabling growth across Google Cloud.\n",
      "Partner with cross-functional leaders across Google Cloud to drive alignment and deliver customer value.\n",
      "Identify opportunities to leverage AI/ML, including Generative AI to improve the cloud experiences.\n",
      "Information collected and processed as part of your Google Careers profile, and any job applications you choose to submit is subject to Google's Applicant and Candidate Privacy Policy.Google is proud to be an equal opportunity and affirmative action employer. We are committed to building a workforce that is representative of the users we serve, creating a culture of belonging, and providing an equal employment opportunity regardless of race, creed, color, religion, gender, sexual orientation, gender identity/expression, national origin, disability, age, genetic information, veteran status, marital status, pregnancy or related condition (including breastfeeding), expecting or parents-to-be, criminal histories consistent with legal requirements, or any other basis protected by law. See also  Google's EEO Policy, Know your rights: workplace discrimination is illegal, Belonging at Google, and How we hire.If you have a need that requires accommodation, please let us know by completing our Accommodations for Applicants form.Google is a global company and, in order to facilitate efficient collaboration and communication globally, English proficiency is a requirement for all roles unless stated otherwise in the job posting.To all recruitment agencies: Google does not accept agency resumes. Please do not forward resumes to our jobs alias, Google employees, or any other organization location. Google is not responsible for any fees related to unsolicited resumes.Follow Life at Google on More about usAbout usopen_in_newContact usopen_in_newPressopen_in_newRelated InformationInvestor relationsopen_in_newBlogopen_in_newEqual OpportunityGoogle is proud to be an equal opportunity and affirmative action employer. We are committed to building a workforce that is representative of the users we serve, creating a culture of belonging, and providing an equal employment opportunity regardless of race, creed, color, religion, gender, sexual orientation, gender identity/expression, national origin, disability, age, genetic information, veteran status, marital status, pregnancy or related condition (including breastfeeding), expecting or parents-to-be, criminal histories consistent with legal requirements, or any other basis protected by law. See also  Google's EEO Policy, Know your rights: workplace discrimination is illegal, Belonging at Google, and How we hire.More about usexpand_moreRelated informationexpand_moreEqual opportunityexpand_morePrivacyopen_in_newApplicant & Candidate Privacyopen_in_newTermsopen_in_newhelpHelpopen_in_newFollow Life at Google on More about usAbout usopen_in_newContact usopen_in_newPressopen_in_newRelated InformationInvestor relationsopen_in_newBlogopen_in_newEqual OpportunityGoogle is proud to be an equal opportunity and affirmative action employer. We are committed to building a workforce that is representative of the users we serve, creating a culture of belonging, and providing an equal employment opportunity regardless of race, creed, color, religion, gender, sexual orientation, gender identity/expression, national origin, disability, age, genetic information, veteran status, marital status, pregnancy or related condition (including breastfeeding), expecting or parents-to-be, criminal histories consistent with legal requirements, or any other basis protected by law. See also  Google's EEO Policy, Know your rights: workplace discrimination is illegal, Belonging at Google, and How we hire.More about usexpand_moreRelated informationexpand_moreEqual opportunityexpand_morePrivacyopen_in_newApplicant & Candidate Privacyopen_in_newTermsopen_in_newhelpHelpopen_in_newGoogle appsMain menu\n"
     ]
    }
   ],
   "source": [
    "from langchain_community.document_loaders import WebBaseLoader\n",
    "\n",
    "loader = WebBaseLoader(\"https://www.google.com/about/careers/applications/jobs/results/87773882722722502-senior-staff-software-engineer-onboarding-product-led-growth\")\n",
    "page_data = loader.load().pop().page_content\n",
    "print(page_data)"
   ]
  },
  {
   "cell_type": "code",
   "execution_count": 5,
   "id": "b3d94633-3b75-40e8-b20d-1f97c45be93d",
   "metadata": {},
   "outputs": [
    {
     "name": "stdout",
     "output_type": "stream",
     "text": [
      "```json\n",
      "{\n",
      "  \"role\": \"Senior Staff Software Engineer, Onboarding, Product Led Growth\",\n",
      "  \"experience\": {\n",
      "    \"minimum\": {\n",
      "      \"bachelor_degree\": true,\n",
      "      \"software_development\": 8,\n",
      "      \"infrastructure_development\": 7,\n",
      "      \"design_and_architecture\": 5\n",
      "    },\n",
      "    \"preferred\": {\n",
      "      \"google_cloud_experience\": true,\n",
      "      \"large_scale_distributed_systems\": true\n",
      "    }\n",
      "  },\n",
      "  \"skills\": {\n",
      "    \"programming_languages\": [\"TypeScript\", \"Java\"],\n",
      "    \"technologies\": [\"Google Cloud\", \"AI/ML\", \"Generative AI\"]\n",
      "  },\n",
      "  \"description\": \"Provide technical leadership across the Google Cloud onboarding and product led growth organization. Drive expanded product usage and adoption through technological solutions driven by AI/ML. Develop technology strategy and phased plans for a platform enabling growth across Google Cloud. Partner with cross-functional leaders across Google Cloud to drive alignment and deliver customer value. Identify opportunities to leverage AI/ML, including Generative AI to improve the cloud experiences.\"\n",
      "}\n",
      "```\n",
      "\n",
      "Note: The experience section is divided into minimum and preferred sections to reflect the requirements and preferred qualifications mentioned in the job posting. The skills section is also divided into programming languages and technologies to provide a clear distinction between the two.\n"
     ]
    }
   ],
   "source": [
    "from langchain_core.prompts import PromptTemplate\n",
    "\n",
    "prompt_extract = PromptTemplate.from_template(\n",
    "    \"\"\"\n",
    "    ### SCRAPED TEXT FROM WEBSITE\n",
    "    {page_data}\n",
    "    #### Instruction\n",
    "    the scraped text is from careers page of a website.\n",
    "    your job is to extract necessary information relevant to job posting and return it in a JSON format container\n",
    "    obtain the following keys : 'role','experience','skills' ans 'description'.\n",
    "    ### Valid JSON (NO PREAMBLE)\n",
    "    \"\"\"\n",
    ")\n",
    "\n",
    "chain_extract = prompt_extract | llm\n",
    "res = chain_extract.invoke({'page_data' : page_data})\n",
    "print(res.content)"
   ]
  },
  {
   "cell_type": "code",
   "execution_count": 7,
   "id": "05504c29-5d2f-4a82-8249-89ac5153d718",
   "metadata": {},
   "outputs": [
    {
     "data": {
      "text/plain": [
       "{'role': 'Senior Staff Software Engineer, Onboarding, Product Led Growth',\n",
       " 'experience': {'minimum': {'bachelor_degree': True,\n",
       "   'software_development': 8,\n",
       "   'infrastructure_development': 7,\n",
       "   'design_and_architecture': 5},\n",
       "  'preferred': {'google_cloud_experience': True,\n",
       "   'large_scale_distributed_systems': True}},\n",
       " 'skills': {'programming_languages': ['TypeScript', 'Java'],\n",
       "  'technologies': ['Google Cloud', 'AI/ML', 'Generative AI']},\n",
       " 'description': 'Provide technical leadership across the Google Cloud onboarding and product led growth organization. Drive expanded product usage and adoption through technological solutions driven by AI/ML. Develop technology strategy and phased plans for a platform enabling growth across Google Cloud. Partner with cross-functional leaders across Google Cloud to drive alignment and deliver customer value. Identify opportunities to leverage AI/ML, including Generative AI to improve the cloud experiences.'}"
      ]
     },
     "execution_count": 7,
     "metadata": {},
     "output_type": "execute_result"
    }
   ],
   "source": [
    "from langchain_core.output_parsers import JsonOutputParser\n",
    "\n",
    "json_parser = JsonOutputParser()\n",
    "json_res = json_parser.parse(res.content)\n",
    "json_res"
   ]
  },
  {
   "cell_type": "code",
   "execution_count": 9,
   "id": "94e05381-5dc4-4189-b5d5-b3bb0737213f",
   "metadata": {},
   "outputs": [
    {
     "data": {
      "text/html": [
       "<div>\n",
       "<style scoped>\n",
       "    .dataframe tbody tr th:only-of-type {\n",
       "        vertical-align: middle;\n",
       "    }\n",
       "\n",
       "    .dataframe tbody tr th {\n",
       "        vertical-align: top;\n",
       "    }\n",
       "\n",
       "    .dataframe thead th {\n",
       "        text-align: right;\n",
       "    }\n",
       "</style>\n",
       "<table border=\"1\" class=\"dataframe\">\n",
       "  <thead>\n",
       "    <tr style=\"text-align: right;\">\n",
       "      <th></th>\n",
       "      <th>Techstack</th>\n",
       "      <th>Links</th>\n",
       "    </tr>\n",
       "  </thead>\n",
       "  <tbody>\n",
       "    <tr>\n",
       "      <th>0</th>\n",
       "      <td>TypeScript, Java, Platform Extensions</td>\n",
       "      <td>https://example.com/typescript-java-platform-e...</td>\n",
       "    </tr>\n",
       "    <tr>\n",
       "      <th>1</th>\n",
       "      <td>AI/ML, Generative AI, Cloud Computing</td>\n",
       "      <td>https://example.com/ai-ml-generativeai-cloudco...</td>\n",
       "    </tr>\n",
       "    <tr>\n",
       "      <th>2</th>\n",
       "      <td>Distributed Systems, Networking, Data Storage</td>\n",
       "      <td>https://example.com/distributedsystems-network...</td>\n",
       "    </tr>\n",
       "    <tr>\n",
       "      <th>3</th>\n",
       "      <td>Security, Natural Language Processing, UI Design</td>\n",
       "      <td>https://example.com/security-nlp-uidesign</td>\n",
       "    </tr>\n",
       "    <tr>\n",
       "      <th>4</th>\n",
       "      <td>Mobile Development, AI/ML, Cloud Computing</td>\n",
       "      <td>https://example.com/mobiledevelopment-aiml-clo...</td>\n",
       "    </tr>\n",
       "    <tr>\n",
       "      <th>5</th>\n",
       "      <td>JavaScript, Python, Data Analytics</td>\n",
       "      <td>https://example.com/javascript-python-dataanal...</td>\n",
       "    </tr>\n",
       "    <tr>\n",
       "      <th>6</th>\n",
       "      <td>Blockchain, Smart Contracts, Cryptography</td>\n",
       "      <td>https://example.com/blockchain-smartcontracts-...</td>\n",
       "    </tr>\n",
       "    <tr>\n",
       "      <th>7</th>\n",
       "      <td>Microservices, Docker, Kubernetes</td>\n",
       "      <td>https://example.com/microservices-docker-kuber...</td>\n",
       "    </tr>\n",
       "    <tr>\n",
       "      <th>8</th>\n",
       "      <td>Big Data, Hadoop, Apache Spark</td>\n",
       "      <td>https://example.com/bigdata-hadoop-apachespark</td>\n",
       "    </tr>\n",
       "    <tr>\n",
       "      <th>9</th>\n",
       "      <td>Virtualization, VMWare, OpenStack</td>\n",
       "      <td>https://example.com/virtualization-vmware-open...</td>\n",
       "    </tr>\n",
       "    <tr>\n",
       "      <th>10</th>\n",
       "      <td>Deep Learning, TensorFlow, PyTorch</td>\n",
       "      <td>https://example.com/deeplearning-tensorflow-py...</td>\n",
       "    </tr>\n",
       "    <tr>\n",
       "      <th>11</th>\n",
       "      <td>Frontend Development, React, Angular</td>\n",
       "      <td>https://example.com/frontend-react-angular</td>\n",
       "    </tr>\n",
       "    <tr>\n",
       "      <th>12</th>\n",
       "      <td>Backend Development, Node.js, Ruby on Rails</td>\n",
       "      <td>https://example.com/backend-nodejs-rubyonrails</td>\n",
       "    </tr>\n",
       "    <tr>\n",
       "      <th>13</th>\n",
       "      <td>DevOps, CI/CD, Jenkins</td>\n",
       "      <td>https://example.com/devops-cicd-jenkins</td>\n",
       "    </tr>\n",
       "    <tr>\n",
       "      <th>14</th>\n",
       "      <td>Business Intelligence, Power BI, Tableau</td>\n",
       "      <td>https://example.com/businessintelligence-power...</td>\n",
       "    </tr>\n",
       "  </tbody>\n",
       "</table>\n",
       "</div>"
      ],
      "text/plain": [
       "                                           Techstack  \\\n",
       "0              TypeScript, Java, Platform Extensions   \n",
       "1              AI/ML, Generative AI, Cloud Computing   \n",
       "2      Distributed Systems, Networking, Data Storage   \n",
       "3   Security, Natural Language Processing, UI Design   \n",
       "4         Mobile Development, AI/ML, Cloud Computing   \n",
       "5                 JavaScript, Python, Data Analytics   \n",
       "6          Blockchain, Smart Contracts, Cryptography   \n",
       "7                  Microservices, Docker, Kubernetes   \n",
       "8                     Big Data, Hadoop, Apache Spark   \n",
       "9                  Virtualization, VMWare, OpenStack   \n",
       "10                Deep Learning, TensorFlow, PyTorch   \n",
       "11              Frontend Development, React, Angular   \n",
       "12       Backend Development, Node.js, Ruby on Rails   \n",
       "13                            DevOps, CI/CD, Jenkins   \n",
       "14          Business Intelligence, Power BI, Tableau   \n",
       "\n",
       "                                                Links  \n",
       "0   https://example.com/typescript-java-platform-e...  \n",
       "1   https://example.com/ai-ml-generativeai-cloudco...  \n",
       "2   https://example.com/distributedsystems-network...  \n",
       "3           https://example.com/security-nlp-uidesign  \n",
       "4   https://example.com/mobiledevelopment-aiml-clo...  \n",
       "5   https://example.com/javascript-python-dataanal...  \n",
       "6   https://example.com/blockchain-smartcontracts-...  \n",
       "7   https://example.com/microservices-docker-kuber...  \n",
       "8      https://example.com/bigdata-hadoop-apachespark  \n",
       "9   https://example.com/virtualization-vmware-open...  \n",
       "10  https://example.com/deeplearning-tensorflow-py...  \n",
       "11         https://example.com/frontend-react-angular  \n",
       "12     https://example.com/backend-nodejs-rubyonrails  \n",
       "13            https://example.com/devops-cicd-jenkins  \n",
       "14  https://example.com/businessintelligence-power...  "
      ]
     },
     "execution_count": 9,
     "metadata": {},
     "output_type": "execute_result"
    }
   ],
   "source": [
    "import pandas as pd\n",
    "\n",
    "df = pd.read_csv(\"app/resource/my_portfolio1.csv\")\n",
    "df"
   ]
  },
  {
   "cell_type": "code",
   "execution_count": 11,
   "id": "c6b9d525-2ff0-4a04-8c04-580b603e7d6e",
   "metadata": {},
   "outputs": [],
   "source": [
    "import uuid\n",
    "import chromadb\n",
    "\n",
    "client = chromadb.PersistentClient('vectorstore1')\n",
    "collection = client.get_or_create_collection(name = \"portfolio\")\n",
    "\n",
    "if not collection.count():\n",
    "    for _,row in df.iterrows():\n",
    "        collection.add(documents = row[\"Techstack\"],\n",
    "                       metadatas = {\"links\" : row[\"Links\"]},\n",
    "                       ids = [str(uuid.uuid4())]\n",
    "                      )"
   ]
  },
  {
   "cell_type": "code",
   "execution_count": 13,
   "id": "71eb1774-312e-4c3e-89eb-a9be529c22e9",
   "metadata": {},
   "outputs": [
    {
     "data": {
      "text/plain": [
       "[[{'links': 'https://example.com/security-nlp-uidesign'},\n",
       "  {'links': 'https://example.com/ai-ml-generativeai-cloudcomputing'}],\n",
       " [{'links': 'https://example.com/backend-nodejs-rubyonrails'},\n",
       "  {'links': 'https://example.com/frontend-react-angular'}]]"
      ]
     },
     "execution_count": 13,
     "metadata": {},
     "output_type": "execute_result"
    }
   ],
   "source": [
    "links = collection.query(query_texts = [\"Experinece in PHP\", \"Expertise in MVC\"],\n",
    "                         n_results = 2\n",
    "                        ).get('metadatas',[])\n",
    "links"
   ]
  },
  {
   "cell_type": "code",
   "execution_count": 15,
   "id": "d54ace0b-ce45-4575-b796-a9d54d985a5f",
   "metadata": {},
   "outputs": [
    {
     "data": {
      "text/plain": [
       "{'programming_languages': ['TypeScript', 'Java'],\n",
       " 'technologies': ['Google Cloud', 'AI/ML', 'Generative AI']}"
      ]
     },
     "execution_count": 15,
     "metadata": {},
     "output_type": "execute_result"
    }
   ],
   "source": [
    "job = json_res\n",
    "job['skills']"
   ]
  },
  {
   "cell_type": "code",
   "execution_count": 17,
   "id": "c8158128-8a9e-4dac-bc49-3a3a5ea77efb",
   "metadata": {},
   "outputs": [
    {
     "name": "stdout",
     "output_type": "stream",
     "text": [
      "Subject: Unlocking AI-Driven Growth for Google Cloud Onboarding and Product Led Growth\n",
      "\n",
      "Dear Hiring Manager,\n",
      "\n",
      "I came across the Senior Staff Software Engineer, Onboarding, Product Led Growth role at Google Cloud and was impressed by the organization's commitment to driving technological innovation through AI/ML. As a seasoned business development executive at NexGen Solutions, I'd like to highlight how our expertise can support your goals.\n",
      "\n",
      "Our team has extensive experience in developing scalable, AI-driven solutions that enhance customer experiences. I'd like to draw your attention to our recent success story in AI/ML and Generative AI for cloud computing, where we leveraged cutting-edge technologies to create a cloud-based platform that improved operational efficiency by 30% (https://example.com/ai-ml-generativeai-cloudcomputing). This project showcases our ability to design and implement AI-driven solutions that drive business growth.\n",
      "\n",
      "Furthermore, our expertise in backend development using Node.js and Ruby on Rails can help you build a robust platform that supports your onboarding and product led growth initiatives (https://example.com/backend-nodejs-rubyonrails). Our team can also assist in developing a technology strategy and phased plans for a platform that enables growth across Google Cloud.\n",
      "\n",
      "At NexGen Solutions, we've helped numerous organizations like yours streamline their processes, achieve scalability, and reduce operational costs. Our team is well-versed in Google Cloud, AI/ML, and Generative AI, making us an ideal partner to drive alignment and deliver customer value.\n",
      "\n",
      "I'd love to schedule a call to discuss how our expertise can support your organization's goals. Please let me know if you're available for a conversation.\n",
      "\n",
      "Best regards,\n",
      "\n",
      "Raj\n",
      "Senior Business Development Executive\n",
      "NexGen Solutions\n"
     ]
    }
   ],
   "source": [
    "prompt_email = PromptTemplate.from_template(\n",
    "             \"\"\"   ### JOB DESCRIPTION:\n",
    "            {job_description}\n",
    "\n",
    "            ### INSTRUCTION:\n",
    "            You are Raj, a senior business development executive at NexGen Solutions. NexGen Solutions is a leading AI & Software Consulting company focused on driving business innovation through advanced technology solutions. \n",
    "            With years of expertise, NexGen has helped numerous organizations streamline their processes, achieve scalability, and reduce operational costs. \n",
    "            Your task is to craft a cold email to the client based on the job description above, outlining how NexGen Solutions can meet their specific needs.\n",
    "            Be sure to incorporate the most relevant case studies from the following links to highlight NexGen's portfolio: {link_list}\n",
    "            Remember, you are Raj, Senior BDE at NexGen Solutions. \n",
    "            Avoid providing a preamble.\n",
    "            ### EMAIL (NO PREAMBLE) \"\"\"\n",
    ")\n",
    "\n",
    "chain_email = prompt_email | llm\n",
    "res = chain_email.invoke({\"job_description\": str(job), \"link_list\": links})\n",
    "print(res.content)"
   ]
  },
  {
   "cell_type": "code",
   "execution_count": null,
   "id": "143ab1d7-dd69-4955-a0c2-63355193fc5c",
   "metadata": {},
   "outputs": [],
   "source": []
  }
 ],
 "metadata": {
  "kernelspec": {
   "display_name": "Python 3 (ipykernel)",
   "language": "python",
   "name": "python3"
  },
  "language_info": {
   "codemirror_mode": {
    "name": "ipython",
    "version": 3
   },
   "file_extension": ".py",
   "mimetype": "text/x-python",
   "name": "python",
   "nbconvert_exporter": "python",
   "pygments_lexer": "ipython3",
   "version": "3.12.4"
  }
 },
 "nbformat": 4,
 "nbformat_minor": 5
}
